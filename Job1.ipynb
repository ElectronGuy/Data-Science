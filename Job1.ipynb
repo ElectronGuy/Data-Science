{
 "cells": [
  {
   "cell_type": "code",
   "execution_count": 1,
   "metadata": {},
   "outputs": [],
   "source": [
    "import pandas as pd\n",
    "import numpy as np"
   ]
  },
  {
   "cell_type": "code",
   "execution_count": 2,
   "metadata": {},
   "outputs": [
    {
     "name": "stdout",
     "output_type": "stream",
     "text": [
      "[ 1 11 21 31 41 51 61 71 81 91]\n",
      "[[ 1.  13.5]\n",
      " [26.  38.5]\n",
      " [51.  63.5]\n",
      " [76.  88.5]]\n"
     ]
    }
   ],
   "source": [
    "\n",
    "v1 = np.arange(1,100,10) # Creating a vector (array) with arange function\n",
    "print(v1)\n",
    "v2 = np.arange(1,100,100/8)  # Creating a vector (array) with arange function evenly spaced 100/8\n",
    "print (v2.reshape(4,2)) # Reshaping v2 into a matrix."
   ]
  },
  {
   "cell_type": "code",
   "execution_count": 3,
   "metadata": {},
   "outputs": [
    {
     "name": "stdout",
     "output_type": "stream",
     "text": [
      "<bound method NDFrame.describe of       custid sex is_employed  income        marital_stat  health_ins  \\\n",
      "0       2068   F         NaN   11300             Married        True   \n",
      "1       2073   F         NaN       0             Married        True   \n",
      "2       2848   M        True    4500       Never Married       False   \n",
      "3       5641   M        True   20000       Never Married       False   \n",
      "4       6369   F       False   12000       Never Married        True   \n",
      "..       ...  ..         ...     ...                 ...         ...   \n",
      "995  1411132   F       False   46000  Divorced/Separated        True   \n",
      "996  1411860   F         NaN    5400             Widowed        True   \n",
      "997  1412161   M        True   38500             Married        True   \n",
      "998  1412971   M         NaN   43400             Married        True   \n",
      "999  1414286   F       False   20900             Married       False   \n",
      "\n",
      "                 housing_type recent_move  num_vehicles   age  state_of_res  \n",
      "0    Homeowner free and clear       False           2.0  49.0      Michigan  \n",
      "1                      Rented        True           3.0  40.0       Florida  \n",
      "2                      Rented        True           3.0  22.0       Georgia  \n",
      "3       Occupied with no rent       False           0.0  22.0    New Mexico  \n",
      "4                      Rented        True           1.0  31.0       Florida  \n",
      "..                        ...         ...           ...   ...           ...  \n",
      "995                    Rented        True           1.0  56.0       Florida  \n",
      "996                       NaN         NaN           NaN  89.0  Pennsylvania  \n",
      "997                    Rented        True           1.0  29.0       Georgia  \n",
      "998  Homeowner free and clear       False           1.0  88.0          Ohio  \n",
      "999                    Rented       False           2.0  36.0      New York  \n",
      "\n",
      "[1000 rows x 11 columns]>\n",
      "(1000, 11)\n"
     ]
    }
   ],
   "source": [
    "df = pd.read_csv('./csv/customerData.csv') # Reading CSV file.\n",
    "print (df.describe)\n",
    "print (df.shape)"
   ]
  },
  {
   "cell_type": "code",
   "execution_count": 4,
   "metadata": {},
   "outputs": [
    {
     "name": "stdout",
     "output_type": "stream",
     "text": [
      "      custid is_employed        marital_stat                  housing_type  \\\n",
      "0       2068         NaN             Married      Homeowner free and clear   \n",
      "10     16551         NaN             Married  Homeowner with mortgage/loan   \n",
      "20     27445        True       Never Married                        Rented   \n",
      "30     40132        True             Married  Homeowner with mortgage/loan   \n",
      "40     52197         NaN             Married      Homeowner free and clear   \n",
      "..       ...         ...                 ...                           ...   \n",
      "950  1358975       False  Divorced/Separated  Homeowner with mortgage/loan   \n",
      "960  1369460        True       Never Married      Homeowner free and clear   \n",
      "970  1380075         NaN             Widowed  Homeowner with mortgage/loan   \n",
      "980  1393715       False       Never Married                        Rented   \n",
      "990  1407895        True             Married  Homeowner with mortgage/loan   \n",
      "\n",
      "     num_vehicles    state_of_res  \n",
      "0             2.0        Michigan  \n",
      "10            2.0         Georgia  \n",
      "20            2.0         Florida  \n",
      "30            3.0        Illinois  \n",
      "40            2.0         Florida  \n",
      "..            ...             ...  \n",
      "950           1.0  North Carolina  \n",
      "960           3.0    North Dakota  \n",
      "970           1.0      New Jersey  \n",
      "980           1.0        Nebraska  \n",
      "990           2.0          Hawaii  \n",
      "\n",
      "[100 rows x 6 columns]\n"
     ]
    }
   ],
   "source": [
    "new = df.iloc[0::10, 0::2]\n",
    "print(new)"
   ]
  },
  {
   "cell_type": "code",
   "execution_count": 5,
   "metadata": {},
   "outputs": [
    {
     "name": "stdout",
     "output_type": "stream",
     "text": [
      "(1000, 11)\n",
      "11000\n"
     ]
    }
   ],
   "source": [
    "print (df.shape)\n",
    "print (df.size)"
   ]
  },
  {
   "cell_type": "code",
   "execution_count": 6,
   "metadata": {},
   "outputs": [
    {
     "name": "stdout",
     "output_type": "stream",
     "text": [
      "      custid sex is_employed  income   marital_stat  health_ins  \\\n",
      "0       2068   F         NaN   11300        Married        True   \n",
      "1       2073   F         NaN       0        Married        True   \n",
      "5       8322   F       False  180000  Never Married        True   \n",
      "6       8521   M        True  120000  Never Married        True   \n",
      "7      12195   M        True   40000        Married        True   \n",
      "..       ...  ..         ...     ...            ...         ...   \n",
      "972  1386114   M        True   40000        Married        True   \n",
      "974  1388751   F       False   39000        Married        True   \n",
      "977  1392011   F        True  402000        Married        True   \n",
      "980  1393715   F       False   25500  Never Married        True   \n",
      "991  1407916   M        True   30000  Never Married        True   \n",
      "\n",
      "                     housing_type recent_move  num_vehicles   age state_of_res  \n",
      "0        Homeowner free and clear       False           2.0  49.0     Michigan  \n",
      "1                          Rented        True           3.0  40.0      Florida  \n",
      "5    Homeowner with mortgage/loan       False           1.0  40.0     New York  \n",
      "6        Homeowner free and clear        True           1.0  39.0        Idaho  \n",
      "7                          Rented       False           3.0  48.0     Michigan  \n",
      "..                            ...         ...           ...   ...          ...  \n",
      "972                        Rented       False           2.0  41.0        Texas  \n",
      "974  Homeowner with mortgage/loan       False           3.0  45.0    Minnesota  \n",
      "977      Homeowner free and clear       False           1.0  50.0     Virginia  \n",
      "980                        Rented       False           1.0  48.0     Nebraska  \n",
      "991  Homeowner with mortgage/loan       False           1.0  46.0    Louisiana  \n",
      "\n",
      "[276 rows x 11 columns]\n"
     ]
    }
   ],
   "source": [
    "df_age = df.loc[(df['age'] >= 38) & (df['age'] <= 50)] # loc age range between 38 and 50.\n",
    "print (df_age)"
   ]
  },
  {
   "cell_type": "code",
   "execution_count": 7,
   "metadata": {},
   "outputs": [
    {
     "name": "stdout",
     "output_type": "stream",
     "text": [
      "      custid  income  num_vehicles   age\n",
      "9      15917   24000           1.0  70.0\n",
      "12     17946   85000           1.0  51.0\n",
      "13     18487   89200           1.0  63.0\n",
      "15     22295   14400           3.0  54.0\n",
      "16     25863   41000           1.0  70.0\n",
      "..       ...     ...           ...   ...\n",
      "993  1408913    1000           0.0  60.0\n",
      "994  1409249   36200           5.0  73.0\n",
      "995  1411132   46000           1.0  56.0\n",
      "996  1411860    5400           NaN  89.0\n",
      "998  1412971   43400           1.0  88.0\n",
      "\n",
      "[512 rows x 4 columns]\n"
     ]
    }
   ],
   "source": [
    "df_numerical_columns = df.loc[(df['age'] >= 50), ('custid', 'income', 'num_vehicles', 'age')]\n",
    "print (df_numerical_columns) # locing for age over 50 and columns (by name)."
   ]
  },
  {
   "cell_type": "code",
   "execution_count": 8,
   "metadata": {},
   "outputs": [
    {
     "name": "stdout",
     "output_type": "stream",
     "text": [
      "      custid  income  num_vehicles   age\n",
      "9      15917   24000           1.0  70.0\n",
      "12     17946   85000           1.0  51.0\n",
      "13     18487   89200           1.0  63.0\n",
      "15     22295   14400           3.0  54.0\n",
      "16     25863   41000           1.0  70.0\n",
      "..       ...     ...           ...   ...\n",
      "993  1408913    1000           0.0  60.0\n",
      "994  1409249   36200           5.0  73.0\n",
      "995  1411132   46000           1.0  56.0\n",
      "996  1411860    5400           NaN  89.0\n",
      "998  1412971   43400           1.0  88.0\n",
      "\n",
      "[486 rows x 4 columns]\n"
     ]
    }
   ],
   "source": [
    "df_new_columns = df[df['age'] > 50] # Creating a new df for age over 50\n",
    "df_new_columns = df_new_columns.iloc[:,[0,3,8,9]] # ilocing the new df for the wanted columns (numerical)\n",
    "print (df_new_columns)"
   ]
  },
  {
   "cell_type": "code",
   "execution_count": 9,
   "metadata": {},
   "outputs": [
    {
     "name": "stdout",
     "output_type": "stream",
     "text": [
      "           age\n",
      "9     70.00000\n",
      "12    51.00000\n",
      "13    63.00000\n",
      "15    54.00000\n",
      "16    70.00000\n",
      "..         ...\n",
      "201   77.00000\n",
      "205   76.00000\n",
      "209   55.00000\n",
      "212  137.70003\n",
      "213   75.00000\n",
      "\n",
      "[100 rows x 1 columns]\n",
      "2\n"
     ]
    }
   ],
   "source": [
    "df_first_head = df_new_columns.loc[:, ['age']].head(100)\n",
    "print (df_first_head)\n",
    "if isinstance(df_first_head, pd.DataFrame): # Checking if it is indeed data frame type.\n",
    "    print (2)\n",
    "else:\n",
    "    print (3)"
   ]
  },
  {
   "cell_type": "code",
   "execution_count": 10,
   "metadata": {},
   "outputs": [
    {
     "name": "stdout",
     "output_type": "stream",
     "text": [
      "667     931449\n",
      "868    1229417\n",
      "965    1375846\n",
      "Name: custid, dtype: int64\n",
      "mean:  54.03089266923077\n",
      "Max:  130.4016047\n",
      "Min income:  19200\n",
      "13\n"
     ]
    }
   ],
   "source": [
    "print (df.loc[((df['marital_stat'] == 'Divorced/Separated') | (df['marital_stat'] == 'Married')) & (df['age'] < 18)]['custid'])\n",
    "#Q9a\n",
    "print('mean: ',df.loc[(df['income'] > 16000) & (df['state_of_res'] == 'Washington')]['age'].mean())\n",
    "#Q9b\n",
    "print('Max: ',df.loc[(df['income'] > 16000) & (df['state_of_res'] == 'Washington')]['age'].max())\n",
    "#Q9c\n",
    "print('Min income: ',df.loc[(df['income'] > 16000) & (df['state_of_res'] == 'Washington')]['income'].min())\n",
    "#Q9d\n",
    "print(len(df[(df['income'] > 16000) & (df['state_of_res'] == 'Washington')]))"
   ]
  },
  {
   "cell_type": "code",
   "execution_count": 11,
   "metadata": {},
   "outputs": [
    {
     "data": {
      "text/html": [
       "<div>\n",
       "<style scoped>\n",
       "    .dataframe tbody tr th:only-of-type {\n",
       "        vertical-align: middle;\n",
       "    }\n",
       "\n",
       "    .dataframe tbody tr th {\n",
       "        vertical-align: top;\n",
       "    }\n",
       "\n",
       "    .dataframe thead th {\n",
       "        text-align: right;\n",
       "    }\n",
       "</style>\n",
       "<table border=\"1\" class=\"dataframe\">\n",
       "  <thead>\n",
       "    <tr style=\"text-align: right;\">\n",
       "      <th></th>\n",
       "      <th>count</th>\n",
       "      <th>unique</th>\n",
       "      <th>top</th>\n",
       "      <th>freq</th>\n",
       "    </tr>\n",
       "    <tr>\n",
       "      <th>sex</th>\n",
       "      <th></th>\n",
       "      <th></th>\n",
       "      <th></th>\n",
       "      <th></th>\n",
       "    </tr>\n",
       "  </thead>\n",
       "  <tbody>\n",
       "    <tr>\n",
       "      <th>F</th>\n",
       "      <td>425</td>\n",
       "      <td>4</td>\n",
       "      <td>Rented</td>\n",
       "      <td>200</td>\n",
       "    </tr>\n",
       "    <tr>\n",
       "      <th>M</th>\n",
       "      <td>519</td>\n",
       "      <td>4</td>\n",
       "      <td>Homeowner with mortgage/loan</td>\n",
       "      <td>256</td>\n",
       "    </tr>\n",
       "  </tbody>\n",
       "</table>\n",
       "</div>"
      ],
      "text/plain": [
       "    count unique                           top freq\n",
       "sex                                                \n",
       "F     425      4                        Rented  200\n",
       "M     519      4  Homeowner with mortgage/loan  256"
      ]
     },
     "execution_count": 11,
     "metadata": {},
     "output_type": "execute_result"
    }
   ],
   "source": [
    "#Q10a\n",
    "df.groupby(['sex'])['housing_type'].describe()\n",
    "# Most frequent female housing type is Rented.(200)\n",
    "#Q10b\n",
    "# Most frequent male housing type is Homeowner with mortage/loan(256)."
   ]
  }
 ],
 "metadata": {
  "kernelspec": {
   "display_name": "Python 3",
   "language": "python",
   "name": "python3"
  },
  "language_info": {
   "codemirror_mode": {
    "name": "ipython",
    "version": 3
   },
   "file_extension": ".py",
   "mimetype": "text/x-python",
   "name": "python",
   "nbconvert_exporter": "python",
   "pygments_lexer": "ipython3",
   "version": "3.12.8"
  }
 },
 "nbformat": 4,
 "nbformat_minor": 2
}
